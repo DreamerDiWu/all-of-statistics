{
 "cells": [
  {
   "cell_type": "code",
   "execution_count": 2,
   "metadata": {},
   "outputs": [
    {
     "name": "stdout",
     "output_type": "stream",
     "text": [
      "The autoreload extension is already loaded. To reload it, use:\n",
      "  %reload_ext autoreload\n"
     ]
    }
   ],
   "source": [
    "import sys\n",
    "sys.path.append('..')\n",
    "\n",
    "import pandas as pd\n",
    "import numpy as np\n",
    "import seaborn as sns\n",
    "import re\n",
    "import matplotlib as mpl\n",
    "import matplotlib.pyplot as plt\n",
    "%matplotlib inline\n",
    "%load_ext autoreload\n",
    "%autoreload 2\n",
    "from scipy.stats import t\n",
    "\n",
    "from chapters.chapter8 import *"
   ]
  },
  {
   "cell_type": "code",
   "execution_count": 8,
   "metadata": {},
   "outputs": [
    {
     "data": {
      "text/plain": [
       "1.1416303404192403"
      ]
     },
     "execution_count": 8,
     "metadata": {},
     "output_type": "execute_result"
    }
   ],
   "source": [
    "theta = (t.ppf(0.75, 3) - t.ppf(0.25, 3)) / 1.34\n",
    "theta"
   ]
  },
  {
   "cell_type": "code",
   "execution_count": 4,
   "metadata": {},
   "outputs": [
    {
     "data": {
      "text/plain": [
       "array([ 0.97442783, -0.37559688,  4.67457867,  0.93902427, -0.28586191,\n",
       "        0.02619128, -0.37147975, -1.0917111 ,  1.48828415,  0.5258335 ,\n",
       "       -0.40666186, -0.78900618,  0.02991144, -0.81607991, -0.38627618,\n",
       "       -1.19756689,  0.73345944,  0.51085135, -4.08510571, -1.05274502,\n",
       "       -0.2053558 ,  3.8510504 ,  2.1216446 , -0.26205937,  1.17686852])"
      ]
     },
     "execution_count": 4,
     "metadata": {},
     "output_type": "execute_result"
    }
   ],
   "source": [
    "obs = t.rvs(3, size=25)\n",
    "obs"
   ]
  },
  {
   "cell_type": "code",
   "execution_count": 5,
   "metadata": {},
   "outputs": [
    {
     "data": {
      "text/plain": [
       "1.0042433830474906"
      ]
     },
     "execution_count": 5,
     "metadata": {},
     "output_type": "execute_result"
    }
   ],
   "source": [
    "statistic = lambda obs: (np.percentile(obs, 75) - np.percentile(obs, 25)) / 1.34\n",
    "statistic(obs)"
   ]
  },
  {
   "cell_type": "code",
   "execution_count": 11,
   "metadata": {},
   "outputs": [
    {
     "name": "stdout",
     "output_type": "stream",
     "text": [
      "CI(lower=0.5156639919152145, upper=1.7167599516444088) CI(lower=0.50928145601241681, upper=1.6958873701224797) CI(lower=0.60911819752546137, upper=1.7146732401098512)\n",
      "CI(lower=0.45410857167372232, upper=1.6607720152176646) CI(lower=0.57279572848059956, upper=1.4535995749343953) CI(lower=0.54014743080611638, upper=1.7647738255667409)\n",
      "CI(lower=0.60385196439111488, upper=2.0267615846572715) CI(lower=0.44406337611351798, upper=1.8036941670598468) CI(lower=0.82691938198853987, upper=1.8807297349587597)\n",
      "CI(lower=0.31543281539107648, upper=1.4306422972329282) CI(lower=0.1446363178002632, upper=1.3344638907117967) CI(lower=0.43377991400451787, upper=1.7456737845072383)\n",
      "CI(lower=-0.25938356924185846, upper=1.6910671291441635) CI(lower=-1.0234556540551818, upper=0.99568040971998006) CI(lower=0.42373786678618308, upper=2.4053288178856)\n",
      "CI(lower=0.10557971324865545, upper=1.3203010453574411) CI(lower=-0.032268548076881842, upper=1.0878079996932903) CI(lower=0.22435652777561224, upper=1.2158881102202943)\n",
      "CI(lower=0.47411736314091735, upper=1.826586770390362) CI(lower=0.33436244724671127, upper=1.7140877732572941) CI(lower=0.58245133819019856, upper=1.9663416862845682)\n",
      "CI(lower=0.1836046052137208, upper=1.4113921561374028) CI(lower=0.28458763548838117, upper=1.312634799769854) CI(lower=0.28457029357400565, upper=1.515986612833125)\n",
      "CI(lower=0.16132369600150859, upper=0.86191509422873924) CI(lower=0.040998096999688594, upper=0.72749954271236239) CI(lower=0.23448210361764971, upper=0.99972066471347398)\n",
      "CI(lower=0.31210619888957303, upper=1.4773828596406258) CI(lower=0.13890777617025574, upper=1.3084174464066127) CI(lower=0.47375910748953726, upper=1.5802200336176546)\n"
     ]
    },
    {
     "data": {
      "text/html": [
       "<div>\n",
       "<table border=\"1\" class=\"dataframe\">\n",
       "  <thead>\n",
       "    <tr style=\"text-align: right;\">\n",
       "      <th></th>\n",
       "      <th>lower</th>\n",
       "      <th>type</th>\n",
       "      <th>upper</th>\n",
       "    </tr>\n",
       "  </thead>\n",
       "  <tbody>\n",
       "    <tr>\n",
       "      <th>0</th>\n",
       "      <td>0.515664</td>\n",
       "      <td>normal</td>\n",
       "      <td>1.716760</td>\n",
       "    </tr>\n",
       "    <tr>\n",
       "      <th>1</th>\n",
       "      <td>0.509281</td>\n",
       "      <td>pivot</td>\n",
       "      <td>1.695887</td>\n",
       "    </tr>\n",
       "    <tr>\n",
       "      <th>2</th>\n",
       "      <td>0.609118</td>\n",
       "      <td>percentile</td>\n",
       "      <td>1.714673</td>\n",
       "    </tr>\n",
       "    <tr>\n",
       "      <th>3</th>\n",
       "      <td>0.783856</td>\n",
       "      <td>normal</td>\n",
       "      <td>1.865298</td>\n",
       "    </tr>\n",
       "    <tr>\n",
       "      <th>4</th>\n",
       "      <td>0.613448</td>\n",
       "      <td>pivot</td>\n",
       "      <td>1.934928</td>\n",
       "    </tr>\n",
       "  </tbody>\n",
       "</table>\n",
       "</div>"
      ],
      "text/plain": [
       "      lower        type     upper\n",
       "0  0.515664      normal  1.716760\n",
       "1  0.509281       pivot  1.695887\n",
       "2  0.609118  percentile  1.714673\n",
       "3  0.783856      normal  1.865298\n",
       "4  0.613448       pivot  1.934928"
      ]
     },
     "execution_count": 11,
     "metadata": {},
     "output_type": "execute_result"
    }
   ],
   "source": [
    "data = {'lower': [], 'upper': [], 'type': []}\n",
    "\n",
    "for i in range(1000):\n",
    "    \n",
    "    obs = pd.Series(t.rvs(3, size=25))\n",
    "    \n",
    "    nci = bootstrap_ci_normal(obs, statistic, 100, 0.05)    \n",
    "    pivci = bootstrap_ci_pivot(obs, statistic, 100, 0.05)    \n",
    "    perci = bootstrap_ci_percentile(obs, statistic, 100, 0.05)\n",
    "    \n",
    "    if i % 100 == 0:\n",
    "        print(nci, pivci, perci)\n",
    "    \n",
    "    data.get('lower').append(nci.lower)    \n",
    "    data.get('upper').append(nci.upper)\n",
    "    data.get('type').append('normal')\n",
    "    \n",
    "    data.get('lower').append(pivci.lower)    \n",
    "    data.get('upper').append(pivci.upper)\n",
    "    data.get('type').append('pivot')\n",
    "    \n",
    "    data.get('lower').append(perci.lower)    \n",
    "    data.get('upper').append(perci.upper)\n",
    "    data.get('type').append('percentile')\n",
    "    \n",
    "df = pd.DataFrame(data)\n",
    "df['contains_true'] = df.apply(lambda r: r.lower <= theta <= r.upper, axis=1)\n",
    "\n",
    "#df.to_csv('../data/ch08q03.csv', index=False)\n",
    "\n",
    "df.head()"
   ]
  },
  {
   "cell_type": "code",
   "execution_count": 19,
   "metadata": {},
   "outputs": [
    {
     "data": {
      "text/plain": [
       "type\n",
       "normal        0.947\n",
       "percentile    0.957\n",
       "pivot         0.814\n",
       "Name: contains_true, dtype: float64"
      ]
     },
     "execution_count": 19,
     "metadata": {},
     "output_type": "execute_result"
    }
   ],
   "source": [
    "df.groupby('type').contains_true.mean()"
   ]
  },
  {
   "cell_type": "code",
   "execution_count": null,
   "metadata": {
    "collapsed": true
   },
   "outputs": [],
   "source": []
  }
 ],
 "metadata": {
  "kernelspec": {
   "display_name": "Python 3",
   "language": "python",
   "name": "python3"
  },
  "language_info": {
   "codemirror_mode": {
    "name": "ipython",
    "version": 3
   },
   "file_extension": ".py",
   "mimetype": "text/x-python",
   "name": "python",
   "nbconvert_exporter": "python",
   "pygments_lexer": "ipython3",
   "version": "3.5.2"
  }
 },
 "nbformat": 4,
 "nbformat_minor": 2
}
