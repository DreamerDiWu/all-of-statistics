{
 "cells": [
  {
   "cell_type": "code",
   "execution_count": 1,
   "metadata": {},
   "outputs": [],
   "source": [
    "import sys\n",
    "sys.path.append('..')\n",
    "\n",
    "import pandas as pd\n",
    "import numpy as np\n",
    "import seaborn as sns\n",
    "import re\n",
    "import matplotlib as mpl\n",
    "import matplotlib.pyplot as plt\n",
    "%matplotlib inline\n",
    "%load_ext autoreload\n",
    "%autoreload 2\n",
    "\n",
    "from chapters.chapter7 import ECDF"
   ]
  },
  {
   "cell_type": "code",
   "execution_count": 2,
   "metadata": {},
   "outputs": [
    {
     "data": {
      "text/html": [
       "<div>\n",
       "<table border=\"1\" class=\"dataframe\">\n",
       "  <thead>\n",
       "    <tr style=\"text-align: right;\">\n",
       "      <th></th>\n",
       "      <th>obs</th>\n",
       "      <th>lat</th>\n",
       "      <th>long</th>\n",
       "      <th>depth</th>\n",
       "      <th>mag</th>\n",
       "      <th>stations</th>\n",
       "    </tr>\n",
       "  </thead>\n",
       "  <tbody>\n",
       "    <tr>\n",
       "      <th>0</th>\n",
       "      <td>1</td>\n",
       "      <td>-20.42</td>\n",
       "      <td>181.62</td>\n",
       "      <td>562</td>\n",
       "      <td>4.8</td>\n",
       "      <td>41</td>\n",
       "    </tr>\n",
       "    <tr>\n",
       "      <th>1</th>\n",
       "      <td>2</td>\n",
       "      <td>-20.62</td>\n",
       "      <td>181.03</td>\n",
       "      <td>650</td>\n",
       "      <td>4.2</td>\n",
       "      <td>15</td>\n",
       "    </tr>\n",
       "    <tr>\n",
       "      <th>2</th>\n",
       "      <td>3</td>\n",
       "      <td>-26.00</td>\n",
       "      <td>184.10</td>\n",
       "      <td>42</td>\n",
       "      <td>5.4</td>\n",
       "      <td>43</td>\n",
       "    </tr>\n",
       "    <tr>\n",
       "      <th>3</th>\n",
       "      <td>4</td>\n",
       "      <td>-17.97</td>\n",
       "      <td>181.66</td>\n",
       "      <td>626</td>\n",
       "      <td>4.1</td>\n",
       "      <td>19</td>\n",
       "    </tr>\n",
       "    <tr>\n",
       "      <th>4</th>\n",
       "      <td>5</td>\n",
       "      <td>-20.42</td>\n",
       "      <td>181.96</td>\n",
       "      <td>649</td>\n",
       "      <td>4.0</td>\n",
       "      <td>11</td>\n",
       "    </tr>\n",
       "  </tbody>\n",
       "</table>\n",
       "</div>"
      ],
      "text/plain": [
       "   obs    lat    long  depth  mag  stations\n",
       "0    1 -20.42  181.62    562  4.8        41\n",
       "1    2 -20.62  181.03    650  4.2        15\n",
       "2    3 -26.00  184.10     42  5.4        43\n",
       "3    4 -17.97  181.66    626  4.1        19\n",
       "4    5 -20.42  181.96    649  4.0        11"
      ]
     },
     "execution_count": 2,
     "metadata": {},
     "output_type": "execute_result"
    }
   ],
   "source": [
    "df = pd.read_csv('../data/fijiquakes.csv', sep='\\t')\n",
    "df = df.rename(columns={c: c.lower().strip('.') for c in df})\n",
    "df.head()"
   ]
  },
  {
   "cell_type": "code",
   "execution_count": 3,
   "metadata": {},
   "outputs": [
    {
     "data": {
      "text/html": [
       "<div>\n",
       "<table border=\"1\" class=\"dataframe\">\n",
       "  <thead>\n",
       "    <tr style=\"text-align: right;\">\n",
       "      <th></th>\n",
       "      <th>obs</th>\n",
       "      <th>lat</th>\n",
       "      <th>long</th>\n",
       "      <th>depth</th>\n",
       "      <th>mag</th>\n",
       "      <th>stations</th>\n",
       "    </tr>\n",
       "  </thead>\n",
       "  <tbody>\n",
       "    <tr>\n",
       "      <th>count</th>\n",
       "      <td>1000.000000</td>\n",
       "      <td>1000.000000</td>\n",
       "      <td>1000.000000</td>\n",
       "      <td>1000.000000</td>\n",
       "      <td>1000.000000</td>\n",
       "      <td>1000.000000</td>\n",
       "    </tr>\n",
       "    <tr>\n",
       "      <th>mean</th>\n",
       "      <td>500.500000</td>\n",
       "      <td>-20.642750</td>\n",
       "      <td>179.462020</td>\n",
       "      <td>311.371000</td>\n",
       "      <td>4.620400</td>\n",
       "      <td>33.418000</td>\n",
       "    </tr>\n",
       "    <tr>\n",
       "      <th>std</th>\n",
       "      <td>288.819436</td>\n",
       "      <td>5.028791</td>\n",
       "      <td>6.069497</td>\n",
       "      <td>215.535498</td>\n",
       "      <td>0.402773</td>\n",
       "      <td>21.900386</td>\n",
       "    </tr>\n",
       "    <tr>\n",
       "      <th>min</th>\n",
       "      <td>1.000000</td>\n",
       "      <td>-38.590000</td>\n",
       "      <td>165.670000</td>\n",
       "      <td>40.000000</td>\n",
       "      <td>4.000000</td>\n",
       "      <td>10.000000</td>\n",
       "    </tr>\n",
       "    <tr>\n",
       "      <th>25%</th>\n",
       "      <td>250.750000</td>\n",
       "      <td>-23.470000</td>\n",
       "      <td>179.620000</td>\n",
       "      <td>99.000000</td>\n",
       "      <td>4.300000</td>\n",
       "      <td>18.000000</td>\n",
       "    </tr>\n",
       "    <tr>\n",
       "      <th>50%</th>\n",
       "      <td>500.500000</td>\n",
       "      <td>-20.300000</td>\n",
       "      <td>181.410000</td>\n",
       "      <td>247.000000</td>\n",
       "      <td>4.600000</td>\n",
       "      <td>27.000000</td>\n",
       "    </tr>\n",
       "    <tr>\n",
       "      <th>75%</th>\n",
       "      <td>750.250000</td>\n",
       "      <td>-17.637500</td>\n",
       "      <td>183.200000</td>\n",
       "      <td>543.000000</td>\n",
       "      <td>4.900000</td>\n",
       "      <td>42.000000</td>\n",
       "    </tr>\n",
       "    <tr>\n",
       "      <th>max</th>\n",
       "      <td>1000.000000</td>\n",
       "      <td>-10.720000</td>\n",
       "      <td>188.130000</td>\n",
       "      <td>680.000000</td>\n",
       "      <td>6.400000</td>\n",
       "      <td>132.000000</td>\n",
       "    </tr>\n",
       "  </tbody>\n",
       "</table>\n",
       "</div>"
      ],
      "text/plain": [
       "               obs          lat         long        depth          mag  \\\n",
       "count  1000.000000  1000.000000  1000.000000  1000.000000  1000.000000   \n",
       "mean    500.500000   -20.642750   179.462020   311.371000     4.620400   \n",
       "std     288.819436     5.028791     6.069497   215.535498     0.402773   \n",
       "min       1.000000   -38.590000   165.670000    40.000000     4.000000   \n",
       "25%     250.750000   -23.470000   179.620000    99.000000     4.300000   \n",
       "50%     500.500000   -20.300000   181.410000   247.000000     4.600000   \n",
       "75%     750.250000   -17.637500   183.200000   543.000000     4.900000   \n",
       "max    1000.000000   -10.720000   188.130000   680.000000     6.400000   \n",
       "\n",
       "          stations  \n",
       "count  1000.000000  \n",
       "mean     33.418000  \n",
       "std      21.900386  \n",
       "min      10.000000  \n",
       "25%      18.000000  \n",
       "50%      27.000000  \n",
       "75%      42.000000  \n",
       "max     132.000000  "
      ]
     },
     "execution_count": 3,
     "metadata": {},
     "output_type": "execute_result"
    }
   ],
   "source": [
    "df.describe()"
   ]
  },
  {
   "cell_type": "code",
   "execution_count": 4,
   "metadata": {},
   "outputs": [
    {
     "data": {
      "text/plain": [
       "0.998"
      ]
     },
     "execution_count": 4,
     "metadata": {},
     "output_type": "execute_result"
    }
   ],
   "source": [
    "F = ECDF(df.mag)\n",
    "F(6)"
   ]
  },
  {
   "cell_type": "code",
   "execution_count": 5,
   "metadata": {},
   "outputs": [
    {
     "data": {
      "text/plain": [
       "CI(lower=0.8060530591653262, upper=0.8919469408346737)"
      ]
     },
     "execution_count": 5,
     "metadata": {},
     "output_type": "execute_result"
    }
   ],
   "source": [
    "F.ci(5)"
   ]
  },
  {
   "cell_type": "code",
   "execution_count": 6,
   "metadata": {},
   "outputs": [
    {
     "data": {
      "text/html": [
       "<div>\n",
       "<table border=\"1\" class=\"dataframe\">\n",
       "  <thead>\n",
       "    <tr style=\"text-align: right;\">\n",
       "      <th></th>\n",
       "      <th>obs</th>\n",
       "      <th>lat</th>\n",
       "      <th>long</th>\n",
       "      <th>depth</th>\n",
       "      <th>mag</th>\n",
       "      <th>stations</th>\n",
       "      <th>ecdf</th>\n",
       "      <th>ci</th>\n",
       "      <th>l</th>\n",
       "      <th>u</th>\n",
       "    </tr>\n",
       "  </thead>\n",
       "  <tbody>\n",
       "    <tr>\n",
       "      <th>769</th>\n",
       "      <td>770</td>\n",
       "      <td>-20.70</td>\n",
       "      <td>186.30</td>\n",
       "      <td>80</td>\n",
       "      <td>4.0</td>\n",
       "      <td>10</td>\n",
       "      <td>0.046</td>\n",
       "      <td>(0.0030530591653262426, 0.08894694083467375)</td>\n",
       "      <td>0.003053</td>\n",
       "      <td>0.088947</td>\n",
       "    </tr>\n",
       "    <tr>\n",
       "      <th>726</th>\n",
       "      <td>727</td>\n",
       "      <td>-17.10</td>\n",
       "      <td>182.80</td>\n",
       "      <td>390</td>\n",
       "      <td>4.0</td>\n",
       "      <td>14</td>\n",
       "      <td>0.046</td>\n",
       "      <td>(0.0030530591653262426, 0.08894694083467375)</td>\n",
       "      <td>0.003053</td>\n",
       "      <td>0.088947</td>\n",
       "    </tr>\n",
       "    <tr>\n",
       "      <th>636</th>\n",
       "      <td>637</td>\n",
       "      <td>-19.51</td>\n",
       "      <td>183.97</td>\n",
       "      <td>280</td>\n",
       "      <td>4.0</td>\n",
       "      <td>16</td>\n",
       "      <td>0.046</td>\n",
       "      <td>(0.0030530591653262426, 0.08894694083467375)</td>\n",
       "      <td>0.003053</td>\n",
       "      <td>0.088947</td>\n",
       "    </tr>\n",
       "    <tr>\n",
       "      <th>815</th>\n",
       "      <td>816</td>\n",
       "      <td>-22.12</td>\n",
       "      <td>180.49</td>\n",
       "      <td>532</td>\n",
       "      <td>4.0</td>\n",
       "      <td>14</td>\n",
       "      <td>0.046</td>\n",
       "      <td>(0.0030530591653262426, 0.08894694083467375)</td>\n",
       "      <td>0.003053</td>\n",
       "      <td>0.088947</td>\n",
       "    </tr>\n",
       "    <tr>\n",
       "      <th>112</th>\n",
       "      <td>113</td>\n",
       "      <td>-19.06</td>\n",
       "      <td>182.45</td>\n",
       "      <td>477</td>\n",
       "      <td>4.0</td>\n",
       "      <td>16</td>\n",
       "      <td>0.046</td>\n",
       "      <td>(0.0030530591653262426, 0.08894694083467375)</td>\n",
       "      <td>0.003053</td>\n",
       "      <td>0.088947</td>\n",
       "    </tr>\n",
       "  </tbody>\n",
       "</table>\n",
       "</div>"
      ],
      "text/plain": [
       "     obs    lat    long  depth  mag  stations   ecdf  \\\n",
       "769  770 -20.70  186.30     80  4.0        10  0.046   \n",
       "726  727 -17.10  182.80    390  4.0        14  0.046   \n",
       "636  637 -19.51  183.97    280  4.0        16  0.046   \n",
       "815  816 -22.12  180.49    532  4.0        14  0.046   \n",
       "112  113 -19.06  182.45    477  4.0        16  0.046   \n",
       "\n",
       "                                               ci         l         u  \n",
       "769  (0.0030530591653262426, 0.08894694083467375)  0.003053  0.088947  \n",
       "726  (0.0030530591653262426, 0.08894694083467375)  0.003053  0.088947  \n",
       "636  (0.0030530591653262426, 0.08894694083467375)  0.003053  0.088947  \n",
       "815  (0.0030530591653262426, 0.08894694083467375)  0.003053  0.088947  \n",
       "112  (0.0030530591653262426, 0.08894694083467375)  0.003053  0.088947  "
      ]
     },
     "execution_count": 6,
     "metadata": {},
     "output_type": "execute_result"
    }
   ],
   "source": [
    "df['ecdf'] = df.mag.apply(F)\n",
    "df['ci'] = df.mag.apply(F.ci)\n",
    "df['l'] = df.ci.apply(lambda x: x.lower)\n",
    "df['u'] = df.ci.apply(lambda x: x.upper)\n",
    "df.sort_values('mag').head()"
   ]
  },
  {
   "cell_type": "code",
   "execution_count": 7,
   "metadata": {},
   "outputs": [
    {
     "data": {
      "text/html": [
       "<div>\n",
       "<table border=\"1\" class=\"dataframe\">\n",
       "  <thead>\n",
       "    <tr style=\"text-align: right;\">\n",
       "      <th></th>\n",
       "      <th>mag</th>\n",
       "      <th>variable</th>\n",
       "      <th>value</th>\n",
       "    </tr>\n",
       "  </thead>\n",
       "  <tbody>\n",
       "    <tr>\n",
       "      <th>0</th>\n",
       "      <td>4.8</td>\n",
       "      <td>ecdf</td>\n",
       "      <td>0.748</td>\n",
       "    </tr>\n",
       "    <tr>\n",
       "      <th>1</th>\n",
       "      <td>4.2</td>\n",
       "      <td>ecdf</td>\n",
       "      <td>0.191</td>\n",
       "    </tr>\n",
       "    <tr>\n",
       "      <th>2</th>\n",
       "      <td>5.4</td>\n",
       "      <td>ecdf</td>\n",
       "      <td>0.962</td>\n",
       "    </tr>\n",
       "    <tr>\n",
       "      <th>3</th>\n",
       "      <td>4.1</td>\n",
       "      <td>ecdf</td>\n",
       "      <td>0.101</td>\n",
       "    </tr>\n",
       "    <tr>\n",
       "      <th>4</th>\n",
       "      <td>4.0</td>\n",
       "      <td>ecdf</td>\n",
       "      <td>0.046</td>\n",
       "    </tr>\n",
       "  </tbody>\n",
       "</table>\n",
       "</div>"
      ],
      "text/plain": [
       "   mag variable  value\n",
       "0  4.8     ecdf  0.748\n",
       "1  4.2     ecdf  0.191\n",
       "2  5.4     ecdf  0.962\n",
       "3  4.1     ecdf  0.101\n",
       "4  4.0     ecdf  0.046"
      ]
     },
     "execution_count": 7,
     "metadata": {},
     "output_type": "execute_result"
    }
   ],
   "source": [
    "dft = pd.melt(df, id_vars='mag', value_vars=['ecdf', 'l', 'u'])\n",
    "dft.head()"
   ]
  },
  {
   "cell_type": "code",
   "execution_count": 8,
   "metadata": {},
   "outputs": [
    {
     "data": {
      "image/png": "[encoded data removed]",
      "text/plain": [
       "<matplotlib.figure.Figure at 0x7faa01ffeb00>"
      ]
     },
     "metadata": {},
     "output_type": "display_data"
    }
   ],
   "source": [
    "g = sns.factorplot(x='mag', y='value', data=dft, \n",
    "               hue='variable', markers='.', \n",
    "               size=5, aspect=1.5)"
   ]
  },
  {
   "cell_type": "code",
   "execution_count": 9,
   "metadata": {},
   "outputs": [
    {
     "data": {
      "text/plain": [
       "0.526"
      ]
     },
     "execution_count": 9,
     "metadata": {},
     "output_type": "execute_result"
    }
   ],
   "source": [
    "F(4.9) - F(4.3)"
   ]
  },
  {
   "cell_type": "code",
   "execution_count": 10,
   "metadata": {},
   "outputs": [
    {
     "data": {
      "text/plain": [
       "CI(lower=0.7590530591653263, upper=0.8449469408346738)"
      ]
     },
     "execution_count": 10,
     "metadata": {},
     "output_type": "execute_result"
    }
   ],
   "source": [
    "F.ci(4.9)"
   ]
  },
  {
   "cell_type": "code",
   "execution_count": 11,
   "metadata": {},
   "outputs": [
    {
     "data": {
      "text/plain": [
       "CI(lower=0.23305305916532626, upper=0.3189469408346738)"
      ]
     },
     "execution_count": 11,
     "metadata": {},
     "output_type": "execute_result"
    }
   ],
   "source": [
    "F.ci(4.3)"
   ]
  },
  {
   "cell_type": "code",
   "execution_count": 12,
   "metadata": {},
   "outputs": [
    {
     "data": {
      "text/plain": [
       "(0.23305305916532626, 0.8449469408346738)"
      ]
     },
     "execution_count": 12,
     "metadata": {},
     "output_type": "execute_result"
    }
   ],
   "source": [
    "(F.ci(4.3).lower, F.ci(4.9).upper)"
   ]
  },
  {
   "cell_type": "code",
   "execution_count": null,
   "metadata": {
    "collapsed": true
   },
   "outputs": [],
   "source": []
  }
 ],
 "metadata": {
  "kernelspec": {
   "display_name": "Python 3",
   "language": "python",
   "name": "python3"
  },
  "language_info": {
   "codemirror_mode": {
    "name": "ipython",
    "version": 3
   },
   "file_extension": ".py",
   "mimetype": "text/x-python",
   "name": "python",
   "nbconvert_exporter": "python",
   "pygments_lexer": "ipython3",
   "version": "3.4.3"
  }
 },
 "nbformat": 4,
 "nbformat_minor": 2
}
