{
 "cells": [
  {
   "cell_type": "code",
   "execution_count": 1,
   "metadata": {
    "collapsed": true
   },
   "outputs": [],
   "source": [
    "import sys\n",
    "sys.path.append('..')\n",
    "\n",
    "from scipy.stats import norm\n",
    "import pandas as pd\n",
    "import numpy as np\n",
    "import seaborn as sns\n",
    "import matplotlib.pyplot as plt\n",
    "\n",
    "from chapters.chapter10 import bonferroni, benjamini_hochberg\n",
    "\n",
    "%load_ext autoreload\n",
    "%autoreload 2\n",
    "\n",
    "%matplotlib inline\n",
    "plt.style.use('ggplot')"
   ]
  },
  {
   "cell_type": "code",
   "execution_count": 4,
   "metadata": {},
   "outputs": [
    {
     "data": {
      "text/html": [
       "<div>\n",
       "<table border=\"1\" class=\"dataframe\">\n",
       "  <thead>\n",
       "    <tr style=\"text-align: right;\">\n",
       "      <th></th>\n",
       "      <th>drug</th>\n",
       "      <th>total</th>\n",
       "      <th>nausea</th>\n",
       "      <th>p</th>\n",
       "    </tr>\n",
       "  </thead>\n",
       "  <tbody>\n",
       "    <tr>\n",
       "      <th>0</th>\n",
       "      <td>placebo</td>\n",
       "      <td>80</td>\n",
       "      <td>45</td>\n",
       "      <td>0.562500</td>\n",
       "    </tr>\n",
       "    <tr>\n",
       "      <th>1</th>\n",
       "      <td>chlorpromazine</td>\n",
       "      <td>75</td>\n",
       "      <td>26</td>\n",
       "      <td>0.346667</td>\n",
       "    </tr>\n",
       "    <tr>\n",
       "      <th>2</th>\n",
       "      <td>dimenhydrinate</td>\n",
       "      <td>85</td>\n",
       "      <td>52</td>\n",
       "      <td>0.611765</td>\n",
       "    </tr>\n",
       "    <tr>\n",
       "      <th>3</th>\n",
       "      <td>pentobarbital100</td>\n",
       "      <td>67</td>\n",
       "      <td>35</td>\n",
       "      <td>0.522388</td>\n",
       "    </tr>\n",
       "    <tr>\n",
       "      <th>4</th>\n",
       "      <td>pentobarbital150</td>\n",
       "      <td>85</td>\n",
       "      <td>37</td>\n",
       "      <td>0.435294</td>\n",
       "    </tr>\n",
       "  </tbody>\n",
       "</table>\n",
       "</div>"
      ],
      "text/plain": [
       "               drug  total  nausea         p\n",
       "0           placebo     80      45  0.562500\n",
       "1    chlorpromazine     75      26  0.346667\n",
       "2    dimenhydrinate     85      52  0.611765\n",
       "3  pentobarbital100     67      35  0.522388\n",
       "4  pentobarbital150     85      37  0.435294"
      ]
     },
     "execution_count": 4,
     "metadata": {},
     "output_type": "execute_result"
    }
   ],
   "source": [
    "df = pd.read_csv('../data/chap10q11.csv')\n",
    "df['p'] = df.nausea / df.total\n",
    "df.head()"
   ]
  },
  {
   "cell_type": "code",
   "execution_count": 8,
   "metadata": {},
   "outputs": [
    {
     "data": {
      "text/plain": [
       "0.5625"
      ]
     },
     "execution_count": 8,
     "metadata": {},
     "output_type": "execute_result"
    }
   ],
   "source": [
    "placebo = df[df.drug == 'placebo']\n",
    "p_placebo = placebo.p.max()\n",
    "p_placebo"
   ]
  },
  {
   "cell_type": "code",
   "execution_count": 10,
   "metadata": {},
   "outputs": [
    {
     "data": {
      "text/plain": [
       "80"
      ]
     },
     "execution_count": 10,
     "metadata": {},
     "output_type": "execute_result"
    }
   ],
   "source": [
    "n_placebo = placebo.total.max()\n",
    "n_placebo"
   ]
  },
  {
   "cell_type": "code",
   "execution_count": 23,
   "metadata": {},
   "outputs": [
    {
     "data": {
      "text/html": [
       "<div>\n",
       "<table border=\"1\" class=\"dataframe\">\n",
       "  <thead>\n",
       "    <tr style=\"text-align: right;\">\n",
       "      <th></th>\n",
       "      <th>drug</th>\n",
       "      <th>total</th>\n",
       "      <th>nausea</th>\n",
       "      <th>p</th>\n",
       "      <th>diff</th>\n",
       "      <th>se</th>\n",
       "      <th>ci_lower</th>\n",
       "      <th>ci_upper</th>\n",
       "      <th>significant</th>\n",
       "    </tr>\n",
       "  </thead>\n",
       "  <tbody>\n",
       "    <tr>\n",
       "      <th>0</th>\n",
       "      <td>placebo</td>\n",
       "      <td>80</td>\n",
       "      <td>45</td>\n",
       "      <td>0.562500</td>\n",
       "      <td>0.000000</td>\n",
       "      <td>0.078437</td>\n",
       "      <td>-0.129017</td>\n",
       "      <td>0.129017</td>\n",
       "      <td>False</td>\n",
       "    </tr>\n",
       "    <tr>\n",
       "      <th>1</th>\n",
       "      <td>chlorpromazine</td>\n",
       "      <td>75</td>\n",
       "      <td>26</td>\n",
       "      <td>0.346667</td>\n",
       "      <td>-0.215833</td>\n",
       "      <td>0.078077</td>\n",
       "      <td>-0.344259</td>\n",
       "      <td>-0.087408</td>\n",
       "      <td>True</td>\n",
       "    </tr>\n",
       "    <tr>\n",
       "      <th>2</th>\n",
       "      <td>dimenhydrinate</td>\n",
       "      <td>85</td>\n",
       "      <td>52</td>\n",
       "      <td>0.611765</td>\n",
       "      <td>0.049265</td>\n",
       "      <td>0.076618</td>\n",
       "      <td>-0.076761</td>\n",
       "      <td>0.175291</td>\n",
       "      <td>False</td>\n",
       "    </tr>\n",
       "    <tr>\n",
       "      <th>3</th>\n",
       "      <td>pentobarbital100</td>\n",
       "      <td>67</td>\n",
       "      <td>35</td>\n",
       "      <td>0.522388</td>\n",
       "      <td>-0.040112</td>\n",
       "      <td>0.082462</td>\n",
       "      <td>-0.175750</td>\n",
       "      <td>0.095527</td>\n",
       "      <td>False</td>\n",
       "    </tr>\n",
       "    <tr>\n",
       "      <th>4</th>\n",
       "      <td>pentobarbital150</td>\n",
       "      <td>85</td>\n",
       "      <td>37</td>\n",
       "      <td>0.435294</td>\n",
       "      <td>-0.127206</td>\n",
       "      <td>0.077253</td>\n",
       "      <td>-0.254276</td>\n",
       "      <td>-0.000135</td>\n",
       "      <td>True</td>\n",
       "    </tr>\n",
       "  </tbody>\n",
       "</table>\n",
       "</div>"
      ],
      "text/plain": [
       "               drug  total  nausea         p      diff        se  ci_lower  \\\n",
       "0           placebo     80      45  0.562500  0.000000  0.078437 -0.129017   \n",
       "1    chlorpromazine     75      26  0.346667 -0.215833  0.078077 -0.344259   \n",
       "2    dimenhydrinate     85      52  0.611765  0.049265  0.076618 -0.076761   \n",
       "3  pentobarbital100     67      35  0.522388 -0.040112  0.082462 -0.175750   \n",
       "4  pentobarbital150     85      37  0.435294 -0.127206  0.077253 -0.254276   \n",
       "\n",
       "   ci_upper significant  \n",
       "0  0.129017       False  \n",
       "1 -0.087408        True  \n",
       "2  0.175291       False  \n",
       "3  0.095527       False  \n",
       "4 -0.000135        True  "
      ]
     },
     "execution_count": 23,
     "metadata": {},
     "output_type": "execute_result"
    }
   ],
   "source": [
    "alpha = 0.05\n",
    "z_alpha = norm.ppf(1 - alpha)\n",
    "\n",
    "df['diff'] = df.p - p_placebo\n",
    "df['se'] = np.sqrt((df.p * (1 - df.p) / df.total) + (p_placebo * (1 - p_placebo) / n_placebo))\n",
    "df['ci_lower'] = df['diff'] - df.se * z_alpha\n",
    "df['ci_upper'] = df['diff'] + df.se * z_alpha\n",
    "df['significant'] = (0 < df.ci_lower) | (df.ci_upper < 0)\n",
    "\n",
    "df.head()"
   ]
  },
  {
   "cell_type": "code",
   "execution_count": null,
   "metadata": {
    "collapsed": true
   },
   "outputs": [],
   "source": []
  }
 ],
 "metadata": {
  "kernelspec": {
   "display_name": "Python 3",
   "language": "python",
   "name": "python3"
  },
  "language_info": {
   "codemirror_mode": {
    "name": "ipython",
    "version": 3
   },
   "file_extension": ".py",
   "mimetype": "text/x-python",
   "name": "python",
   "nbconvert_exporter": "python",
   "pygments_lexer": "ipython3",
   "version": "3.5.2"
  }
 },
 "nbformat": 4,
 "nbformat_minor": 2
}
