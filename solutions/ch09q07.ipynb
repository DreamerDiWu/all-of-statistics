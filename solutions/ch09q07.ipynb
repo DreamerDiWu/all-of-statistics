{
 "cells": [
  {
   "cell_type": "code",
   "execution_count": 17,
   "metadata": {},
   "outputs": [
    {
     "name": "stdout",
     "output_type": "stream",
     "text": [
      "The autoreload extension is already loaded. To reload it, use:\n",
      "  %reload_ext autoreload\n"
     ]
    }
   ],
   "source": [
    "import sys\n",
    "sys.path.append('..')\n",
    "\n",
    "from scipy.stats import binom, norm\n",
    "import pandas as pd\n",
    "import numpy as np\n",
    "import seaborn as sns\n",
    "import matplotlib.pyplot as plt\n",
    "\n",
    "from chapters.chapter7 import CI\n",
    "from chapters.chapter8 import bootstrap, bootstrap_variance\n",
    "from chapters.chapter9 import parametric_bootstrap, parametric_bootstrap_variance\n",
    "\n",
    "%load_ext autoreload\n",
    "%autoreload 2\n",
    "\n",
    "%matplotlib inline\n",
    "plt.style.use('ggplot')"
   ]
  },
  {
   "cell_type": "markdown",
   "metadata": {},
   "source": [
    "## MLE"
   ]
  },
  {
   "cell_type": "markdown",
   "metadata": {},
   "source": [
    "The MLE for $\\psi$ is $\\hat \\psi = \\hat p_1 - \\hat p_2$."
   ]
  },
  {
   "cell_type": "markdown",
   "metadata": {},
   "source": [
    "The Fisher information matrix is\n",
    "$$\n",
    "\\begin{pmatrix}\n",
    "    \\frac{n1}{p_1 (1-p_1)} & 0 \\\\\n",
    "    0 & \\frac{n1}{p_1 (1-p_1)}\n",
    "\\end{pmatrix}\n",
    "$$"
   ]
  },
  {
   "cell_type": "markdown",
   "metadata": {},
   "source": [
    "The delta method standard error is $\\sqrt{\\frac{p_1 (1 - p_1)}{n_1} + \\frac{p_2 (1 - p_2)}{n_2}}$"
   ]
  },
  {
   "cell_type": "code",
   "execution_count": 26,
   "metadata": {},
   "outputs": [
    {
     "data": {
      "text/plain": [
       "0.06000000000000005"
      ]
     },
     "execution_count": 26,
     "metadata": {},
     "output_type": "execute_result"
    }
   ],
   "source": [
    "n1 = 200\n",
    "n2 = n1\n",
    "x1 = 160\n",
    "x2 = 148\n",
    "p1_hat = x1 / n1\n",
    "p2_hat = x2 / n2\n",
    "\n",
    "psi_hat = p1_hat - p2_hat\n",
    "mle = psi_hat\n",
    "psi_hat"
   ]
  },
  {
   "cell_type": "code",
   "execution_count": 29,
   "metadata": {},
   "outputs": [
    {
     "data": {
      "text/plain": [
       "0.041976183723630711"
      ]
     },
     "execution_count": 29,
     "metadata": {},
     "output_type": "execute_result"
    }
   ],
   "source": [
    "se_delta = np.sqrt((p1_hat * (1 - p1_hat)) / n1 + (p2_hat * (1 - p2_hat)) / n2)\n",
    "se_delta"
   ]
  },
  {
   "cell_type": "code",
   "execution_count": 30,
   "metadata": {},
   "outputs": [
    {
     "data": {
      "text/plain": [
       "1.6448536269514722"
      ]
     },
     "execution_count": 30,
     "metadata": {},
     "output_type": "execute_result"
    }
   ],
   "source": [
    "alpha = 0.05\n",
    "z_alpha = norm.ppf(1 - alpha)\n",
    "z_alpha"
   ]
  },
  {
   "cell_type": "code",
   "execution_count": 31,
   "metadata": {},
   "outputs": [
    {
     "data": {
      "text/plain": [
       "CI(lower=-0.0090446780433952739, upper=0.12904467804339537)"
      ]
     },
     "execution_count": 31,
     "metadata": {},
     "output_type": "execute_result"
    }
   ],
   "source": [
    "ci_delta = CI(mle - z_alpha * se_delta, mle + z_alpha * se_delta)\n",
    "ci_delta"
   ]
  },
  {
   "cell_type": "markdown",
   "metadata": {},
   "source": [
    "## Parametric Bootstrap"
   ]
  },
  {
   "cell_type": "code",
   "execution_count": 28,
   "metadata": {},
   "outputs": [
    {
     "data": {
      "text/plain": [
       "0.0017500987677499999"
      ]
     },
     "execution_count": 28,
     "metadata": {},
     "output_type": "execute_result"
    }
   ],
   "source": [
    "dist1 = binom(n1, p1_hat)\n",
    "dist2 = binom(n2, p2_hat)\n",
    "\n",
    "statistic = np.mean\n",
    "\n",
    "seed1 = 121111\n",
    "seed2 = 951\n",
    "\n",
    "iters = 10000\n",
    "\n",
    "boots1 = parametric_bootstrap(dist1, 1, statistic, iters, random_state=seed1)\n",
    "boots2 = parametric_bootstrap(dist2, 1, statistic, iters, random_state=seed2)\n",
    "\n",
    "boots = (xx1/n1 - xx2/n2 for xx1, xx2 in zip(boots1, boots2))\n",
    "se_boot = np.var(list(boots))\n",
    "se_boot"
   ]
  },
  {
   "cell_type": "code",
   "execution_count": 32,
   "metadata": {},
   "outputs": [
    {
     "data": {
      "text/plain": [
       "CI(lower=0.057121343694343164, upper=0.062878656305656949)"
      ]
     },
     "execution_count": 32,
     "metadata": {},
     "output_type": "execute_result"
    }
   ],
   "source": [
    "ci_boot = CI(psi_hat - z_alpha * se_boot, psi_hat + z_alpha * se_boot)\n",
    "ci_boot"
   ]
  },
  {
   "cell_type": "code",
   "execution_count": null,
   "metadata": {
    "collapsed": true
   },
   "outputs": [],
   "source": []
  }
 ],
 "metadata": {
  "kernelspec": {
   "display_name": "Python 3",
   "language": "python",
   "name": "python3"
  },
  "language_info": {
   "codemirror_mode": {
    "name": "ipython",
    "version": 3
   },
   "file_extension": ".py",
   "mimetype": "text/x-python",
   "name": "python",
   "nbconvert_exporter": "python",
   "pygments_lexer": "ipython3",
   "version": "3.5.2"
  }
 },
 "nbformat": 4,
 "nbformat_minor": 2
}
