{
 "cells": [
  {
   "cell_type": "code",
   "execution_count": 1,
   "metadata": {},
   "outputs": [
    {
     "name": "stdout",
     "output_type": "stream",
     "text": [
      "/Users/Steve/aos\n"
     ]
    }
   ],
   "source": [
    "cd ../.."
   ]
  },
  {
   "cell_type": "code",
   "execution_count": 2,
   "metadata": {
    "collapsed": true
   },
   "outputs": [],
   "source": [
    "import pandas as pd\n",
    "import numpy as np"
   ]
  },
  {
   "cell_type": "code",
   "execution_count": 3,
   "metadata": {
    "collapsed": true
   },
   "outputs": [],
   "source": [
    "clouds = pd.read_csv('ch7/data/cloud_seeding.csv')"
   ]
  },
  {
   "cell_type": "code",
   "execution_count": 4,
   "metadata": {
    "collapsed": true
   },
   "outputs": [],
   "source": [
    "seeded = clouds['Seeded_Clouds']\n",
    "unseeded = clouds['Unseeded_Clouds']"
   ]
  },
  {
   "cell_type": "markdown",
   "metadata": {},
   "source": [
    "We have the following parameter:\n",
    "\n",
    "$\\theta = T(F_2) - T(F_1)$\n",
    "\n",
    "With the following estimator:\n",
    "\n",
    "$\\hat{\\theta} = \\hat{\\mu_2} - \\hat{\\mu_1}$\n",
    "\n",
    "The variance is given by:\n",
    "\n",
    "$V(\\hat{\\theta}) = V(\\hat{\\mu_2} - \\hat{\\mu_1})$\n",
    "\n",
    "$ = V(\\hat{\\mu_2}) + V(\\hat{\\mu_1})$\n",
    "\n",
    "And the standard error is:\n",
    "\n",
    "$se(\\hat{\\theta}) = \\sqrt{V(\\hat{\\theta})}$"
   ]
  },
  {
   "cell_type": "code",
   "execution_count": 7,
   "metadata": {
    "collapsed": true
   },
   "outputs": [],
   "source": [
    "# n obs\n",
    "n_s = len(seeded)\n",
    "n_u = len(unseeded)"
   ]
  },
  {
   "cell_type": "code",
   "execution_count": 6,
   "metadata": {
    "collapsed": true
   },
   "outputs": [],
   "source": [
    "mu_s = np.mean(seeded)\n",
    "mu_u = np.mean(unseeded)"
   ]
  },
  {
   "cell_type": "code",
   "execution_count": 9,
   "metadata": {
    "collapsed": true
   },
   "outputs": [],
   "source": [
    "mu_theta = mu_s - mu_u"
   ]
  },
  {
   "cell_type": "code",
   "execution_count": 10,
   "metadata": {
    "collapsed": true
   },
   "outputs": [],
   "source": [
    "v_theta = np.var(seeded) + np.var(unseeded)"
   ]
  },
  {
   "cell_type": "code",
   "execution_count": 11,
   "metadata": {
    "collapsed": true
   },
   "outputs": [],
   "source": [
    "se_theta = np.sqrt(v_theta)"
   ]
  },
  {
   "cell_type": "code",
   "execution_count": 12,
   "metadata": {
    "collapsed": true
   },
   "outputs": [],
   "source": [
    "# confidence interval (.95)\n",
    "z = 1.96\n",
    "U = mu_theta + z*se_theta\n",
    "L = mu_theta - z*se_theta"
   ]
  },
  {
   "cell_type": "code",
   "execution_count": 14,
   "metadata": {},
   "outputs": [
    {
     "data": {
      "text/plain": [
       "(1637.8313425671627, -1083.0390348748547)"
      ]
     },
     "execution_count": 14,
     "metadata": {},
     "output_type": "execute_result"
    }
   ],
   "source": [
    "# not significant @ .95\n",
    "U, L"
   ]
  }
 ],
 "metadata": {
  "kernelspec": {
   "display_name": "Python 3",
   "language": "python",
   "name": "python3"
  },
  "language_info": {
   "codemirror_mode": {
    "name": "ipython",
    "version": 3
   },
   "file_extension": ".py",
   "mimetype": "text/x-python",
   "name": "python",
   "nbconvert_exporter": "python",
   "pygments_lexer": "ipython3",
   "version": "3.5.1"
  }
 },
 "nbformat": 4,
 "nbformat_minor": 2
}
